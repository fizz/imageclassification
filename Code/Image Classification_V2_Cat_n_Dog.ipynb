{
 "cells": [
  {
   "cell_type": "code",
   "execution_count": 44,
   "metadata": {},
   "outputs": [
    {
     "data": {
      "text/plain": [
       "'2.1.1'"
      ]
     },
     "execution_count": 44,
     "metadata": {},
     "output_type": "execute_result"
    }
   ],
   "source": [
    "import keras\n",
    "keras.__version__"
   ]
  },
  {
   "cell_type": "raw",
   "metadata": {},
   "source": [
    "# Part 1 - Building the CNN\n",
    "\n",
    "# Importing the Keras libraries and packages\n",
    "from keras.models import Sequential\n",
    "from keras.layers import Conv2D\n",
    "from keras.layers import MaxPooling2D\n",
    "from keras.layers import Flatten\n",
    "from keras.layers import Dense\n",
    "\n",
    "# Initialising the CNN\n",
    "classifier = Sequential()\n",
    "\n",
    "# Step 1 - Convolution\n",
    "classifier.add(Conv2D(32, (3, 3), input_shape = (64, 64, 3), activation = 'relu'))\n",
    "\n",
    "# Step 2 - Pooling\n",
    "classifier.add(MaxPooling2D(pool_size = (2, 2)))\n",
    "\n",
    "# Adding a second convolutional layer\n",
    "classifier.add(Conv2D(32, (3, 3), activation = 'relu'))\n",
    "classifier.add(MaxPooling2D(pool_size = (2, 2)))\n",
    "\n",
    "# Step 3 - Flattening\n",
    "classifier.add(Flatten())\n",
    "\n",
    "# Step 4 - Full connection\n",
    "classifier.add(Dense(units = 128, activation = 'relu'))\n",
    "classifier.add(Dense(units = 1, activation = 'sigmoid'))"
   ]
  },
  {
   "cell_type": "code",
   "execution_count": 50,
   "metadata": {
    "scrolled": true
   },
   "outputs": [
    {
     "name": "stdout",
     "output_type": "stream",
     "text": [
      "Found 40 images belonging to 2 classes.\n",
      "Found 8 images belonging to 2 classes.\n",
      "Epoch 1/25\n",
      "   2/8000 [..............................] - ETA: 1:10:07 - loss: 0.6359 - acc: 0.6250 - val_loss: 0.0000e+00 - val_acc: 0.0000e+00Epoch 2/25\n",
      "   2/8000 [..............................] - ETA: 27:15 - loss: 0.5247 - acc: 0.7500 - val_loss: 0.0000e+00 - val_acc: 0.0000e+00Epoch 3/25\n",
      "   2/8000 [..............................] - ETA: 27:31 - loss: 0.5978 - acc: 0.6250 - val_loss: 0.0000e+00 - val_acc: 0.0000e+00Epoch 4/25\n",
      "   2/8000 [..............................] - ETA: 26:45 - loss: 0.4999 - acc: 0.9219 - val_loss: 0.0000e+00 - val_acc: 0.0000e+00Epoch 5/25\n",
      "   2/8000 [..............................] - ETA: 27:55 - loss: 0.4779 - acc: 0.9219 - val_loss: 0.0000e+00 - val_acc: 0.0000e+00Epoch 6/25\n",
      "   2/8000 [..............................] - ETA: 29:04 - loss: 0.4771 - acc: 0.8750 - val_loss: 0.0000e+00 - val_acc: 0.0000e+00Epoch 7/25\n",
      "   2/8000 [..............................] - ETA: 27:02 - loss: 0.4305 - acc: 0.9375 - val_loss: 0.0000e+00 - val_acc: 0.0000e+00Epoch 8/25\n",
      "   2/8000 [..............................] - ETA: 28:39 - loss: 0.4392 - acc: 0.7969 - val_loss: 0.0000e+00 - val_acc: 0.0000e+00Epoch 9/25\n",
      "   2/8000 [..............................] - ETA: 27:57 - loss: 0.4150 - acc: 0.8438 - val_loss: 0.0000e+00 - val_acc: 0.0000e+00Epoch 10/25\n",
      "   2/8000 [..............................] - ETA: 27:54 - loss: 0.3110 - acc: 0.9531 - val_loss: 0.0000e+00 - val_acc: 0.0000e+00Epoch 11/25\n",
      "   2/8000 [..............................] - ETA: 25:32 - loss: 0.4385 - acc: 0.7656 - val_loss: 0.0000e+00 - val_acc: 0.0000e+00Epoch 12/25\n",
      "   2/8000 [..............................] - ETA: 25:41 - loss: 0.3875 - acc: 0.8594 - val_loss: 0.0000e+00 - val_acc: 0.0000e+00Epoch 13/25\n",
      "   2/8000 [..............................] - ETA: 25:53 - loss: 0.4002 - acc: 0.7656 - val_loss: 0.0000e+00 - val_acc: 0.0000e+00Epoch 14/25\n",
      "   2/8000 [..............................] - ETA: 30:17 - loss: 0.3395 - acc: 0.8281 - val_loss: 0.0000e+00 - val_acc: 0.0000e+00Epoch 15/25\n",
      "   2/8000 [..............................] - ETA: 25:41 - loss: 0.3558 - acc: 0.9062 - val_loss: 0.0000e+00 - val_acc: 0.0000e+00Epoch 16/25\n",
      "   2/8000 [..............................] - ETA: 29:20 - loss: 0.2563 - acc: 0.9531 - val_loss: 0.0000e+00 - val_acc: 0.0000e+00Epoch 17/25\n",
      "   2/8000 [..............................] - ETA: 31:58 - loss: 0.2993 - acc: 0.9688 - val_loss: 0.0000e+00 - val_acc: 0.0000e+00Epoch 18/25\n",
      "   2/8000 [..............................] - ETA: 28:30 - loss: 0.2378 - acc: 0.9375 - val_loss: 0.0000e+00 - val_acc: 0.0000e+00Epoch 19/25\n",
      "   2/8000 [..............................] - ETA: 27:44 - loss: 0.2554 - acc: 0.9375 - val_loss: 0.0000e+00 - val_acc: 0.0000e+00Epoch 20/25\n",
      "   2/8000 [..............................] - ETA: 28:24 - loss: 0.2227 - acc: 0.9375 - val_loss: 0.0000e+00 - val_acc: 0.0000e+00Epoch 21/25\n",
      "   2/8000 [..............................] - ETA: 25:20 - loss: 0.2521 - acc: 0.9844 - val_loss: 0.0000e+00 - val_acc: 0.0000e+00Epoch 22/25\n",
      "   2/8000 [..............................] - ETA: 27:18 - loss: 0.3377 - acc: 0.7969 - val_loss: 0.0000e+00 - val_acc: 0.0000e+00Epoch 23/25\n",
      "   2/8000 [..............................] - ETA: 28:34 - loss: 0.1919 - acc: 0.9688 - val_loss: 0.0000e+00 - val_acc: 0.0000e+00Epoch 24/25\n",
      "   2/8000 [..............................] - ETA: 25:26 - loss: 0.2623 - acc: 0.9062 - val_loss: 0.0000e+00 - val_acc: 0.0000e+00Epoch 25/25\n",
      "   2/8000 [..............................] - ETA: 27:50 - loss: 0.2030 - acc: 0.9375 - val_loss: 0.0000e+00 - val_acc: 0.0000e+00"
     ]
    },
    {
     "data": {
      "text/plain": [
       "<keras.callbacks.History at 0x11ae1df98>"
      ]
     },
     "execution_count": 50,
     "metadata": {},
     "output_type": "execute_result"
    }
   ],
   "source": [
    "# Compiling the CNN\n",
    "classifier.compile(optimizer = 'adam', loss = 'binary_crossentropy', metrics = ['accuracy'])\n",
    "\n",
    "# Part 2 - Fitting the CNN to the images\n",
    "from keras.preprocessing.image import ImageDataGenerator\n",
    "\n",
    "train_datagen = ImageDataGenerator(rescale = 1./255,\n",
    "                                   shear_range = 0.2,\n",
    "                                   zoom_range = 0.2,\n",
    "                                   horizontal_flip = True)\n",
    "\n",
    "test_datagen = ImageDataGenerator(rescale = 1./255)\n",
    "\n",
    "\n",
    "training_set = train_datagen.flow_from_directory('data1/train',\n",
    "                                                 target_size = (64, 64),\n",
    "                                                 batch_size = 32,\n",
    "                                                 class_mode = 'binary')\n",
    "\n",
    "validation_set = test_datagen.flow_from_directory('data1/validation',\n",
    "                                            target_size = (64, 64),\n",
    "                                            batch_size = 32,\n",
    "                                            class_mode = 'binary')\n",
    "\n",
    "classifier.fit_generator(training_set,\n",
    "                         steps_per_epoch = 8000,\n",
    "                         epochs = 25,\n",
    "                         validation_data = validation_set,\n",
    "                         validation_steps = 2000)\n"
   ]
  },
  {
   "cell_type": "code",
   "execution_count": 96,
   "metadata": {},
   "outputs": [
    {
     "data": {
      "text/plain": [
       "{'cat': 0, 'dog': 1}"
      ]
     },
     "execution_count": 96,
     "metadata": {},
     "output_type": "execute_result"
    }
   ],
   "source": [
    "training_set.class_indices"
   ]
  },
  {
   "cell_type": "code",
   "execution_count": 177,
   "metadata": {},
   "outputs": [],
   "source": [
    "# Part 3 - Making new predictions\n",
    "import numpy as np\n",
    "from keras.preprocessing import image\n",
    "\n",
    "test_image = image.load_img('/Users/abdullah.alkhaled/Desktop/abdullah_imageClas/data1/test/dog/ukimg004.jpg', target_size = (64, 64))\n",
    "test_image = image.img_to_array(test_image)\n",
    "test_image = np.expand_dims(test_image, axis = 0)\n",
    "\n",
    "result = classifier.predict(test_image)\n",
    "\n",
    "#training_set.class_indices\n",
    "\n",
    "#if result[0][0] == 1:\n",
    "    #prediction = 'dog'\n",
    "#else:\n",
    "    #prediction = 'cat'"
   ]
  },
  {
   "cell_type": "code",
   "execution_count": 178,
   "metadata": {},
   "outputs": [
    {
     "data": {
      "text/plain": [
       "1.0"
      ]
     },
     "execution_count": 178,
     "metadata": {},
     "output_type": "execute_result"
    }
   ],
   "source": [
    "result[0][0]"
   ]
  },
  {
   "cell_type": "code",
   "execution_count": 179,
   "metadata": {
    "collapsed": true
   },
   "outputs": [],
   "source": [
    "if result[0][0]>=0.5:\n",
    "    prediction = 'dog'\n",
    "else:\n",
    "    prediction = 'cat'"
   ]
  },
  {
   "cell_type": "code",
   "execution_count": 180,
   "metadata": {},
   "outputs": [
    {
     "data": {
      "text/plain": [
       "'dog'"
      ]
     },
     "execution_count": 180,
     "metadata": {},
     "output_type": "execute_result"
    }
   ],
   "source": [
    "prediction"
   ]
  }
 ],
 "metadata": {
  "kernelspec": {
   "display_name": "Python [conda env:py36]",
   "language": "python",
   "name": "conda-env-py36-py"
  },
  "language_info": {
   "codemirror_mode": {
    "name": "ipython",
    "version": 3
   },
   "file_extension": ".py",
   "mimetype": "text/x-python",
   "name": "python",
   "nbconvert_exporter": "python",
   "pygments_lexer": "ipython3",
   "version": "3.6.1"
  }
 },
 "nbformat": 4,
 "nbformat_minor": 2
}
